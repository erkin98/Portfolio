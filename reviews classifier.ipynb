{
 "cells": [
  {
   "cell_type": "markdown",
   "metadata": {},
   "source": [
    "#### Importing libraries"
   ]
  },
  {
   "cell_type": "code",
   "execution_count": 1,
   "metadata": {},
   "outputs": [],
   "source": [
    "from sklearn.metrics import f1_score\n",
    "import json\n",
    "import pandas as pd\n",
    "from pandas.api.types import CategoricalDtype\n",
    "from sklearn.model_selection import train_test_split\n",
    "import numpy as np\n",
    "from sklearn.feature_extraction.text import TfidfVectorizer\n",
    "import statsmodels.api as sm\n",
    "from sklearn.linear_model import LogisticRegression\n",
    "from sklearn.neural_network import MLPClassifier\n",
    "from sklearn.preprocessing import StandardScaler\n",
    "from sklearn.metrics import accuracy_score\n",
    "from sklearn.neighbors import KNeighborsClassifier\n",
    "from sklearn.model_selection import GridSearchCV\n",
    "from sklearn.svm import SVC\n",
    "from sklearn.ensemble import RandomForestClassifier\n",
    "from catboost import CatBoostClassifier\n",
    "from xgboost import XGBClassifier\n",
    "from lightgbm import LGBMClassifier\n",
    "import pickle\n",
    "from sklearn.metrics import confusion_matrix, ConfusionMatrixDisplay\n",
    "import seaborn as sns\n",
    "import matplotlib as plt\n",
    "import re"
   ]
  },
  {
   "cell_type": "markdown",
   "metadata": {},
   "source": [
    "#### Data preprocessing"
   ]
  },
  {
   "cell_type": "code",
   "execution_count": 2,
   "metadata": {
    "scrolled": false
   },
   "outputs": [],
   "source": [
    "# Some json stuffs\n",
    "file = 'Cell_Phones_and_Accessories_5.json'\n",
    "\n",
    "reviews = []\n",
    "try:\n",
    "    with open(file) as f:\n",
    "        for l in f:\n",
    "            review = json.loads(l)\n",
    "            reviews.append((review['reviewText'],review['overall']))\n",
    "except: KeyError #because file's size is big\n"
   ]
  },
  {
   "cell_type": "code",
   "execution_count": 3,
   "metadata": {},
   "outputs": [
    {
     "data": {
      "text/html": [
       "<div>\n",
       "<style scoped>\n",
       "    .dataframe tbody tr th:only-of-type {\n",
       "        vertical-align: middle;\n",
       "    }\n",
       "\n",
       "    .dataframe tbody tr th {\n",
       "        vertical-align: top;\n",
       "    }\n",
       "\n",
       "    .dataframe thead th {\n",
       "        text-align: right;\n",
       "    }\n",
       "</style>\n",
       "<table border=\"1\" class=\"dataframe\">\n",
       "  <thead>\n",
       "    <tr style=\"text-align: right;\">\n",
       "      <th></th>\n",
       "      <th>review</th>\n",
       "      <th>overall</th>\n",
       "    </tr>\n",
       "  </thead>\n",
       "  <tbody>\n",
       "    <tr>\n",
       "      <th>0</th>\n",
       "      <td>Looks even better in person. Be careful to not...</td>\n",
       "      <td>5.0</td>\n",
       "    </tr>\n",
       "    <tr>\n",
       "      <th>1</th>\n",
       "      <td>When you don't want to spend a whole lot of ca...</td>\n",
       "      <td>5.0</td>\n",
       "    </tr>\n",
       "    <tr>\n",
       "      <th>2</th>\n",
       "      <td>so the case came on time, i love the design. I...</td>\n",
       "      <td>3.0</td>\n",
       "    </tr>\n",
       "    <tr>\n",
       "      <th>3</th>\n",
       "      <td>DON'T CARE FOR IT.  GAVE IT AS A GIFT AND THEY...</td>\n",
       "      <td>2.0</td>\n",
       "    </tr>\n",
       "    <tr>\n",
       "      <th>4</th>\n",
       "      <td>I liked it because it was cute, but the studs ...</td>\n",
       "      <td>4.0</td>\n",
       "    </tr>\n",
       "    <tr>\n",
       "      <th>...</th>\n",
       "      <td>...</td>\n",
       "      <td>...</td>\n",
       "    </tr>\n",
       "    <tr>\n",
       "      <th>13586</th>\n",
       "      <td>I didn't want to attach a clip to my iphone di...</td>\n",
       "      <td>4.0</td>\n",
       "    </tr>\n",
       "    <tr>\n",
       "      <th>13587</th>\n",
       "      <td>Very happy with the product and service.  I wo...</td>\n",
       "      <td>5.0</td>\n",
       "    </tr>\n",
       "    <tr>\n",
       "      <th>13588</th>\n",
       "      <td>Does not lock oh I do not use it anymore !</td>\n",
       "      <td>2.0</td>\n",
       "    </tr>\n",
       "    <tr>\n",
       "      <th>13589</th>\n",
       "      <td>These things are great.</td>\n",
       "      <td>5.0</td>\n",
       "    </tr>\n",
       "    <tr>\n",
       "      <th>13590</th>\n",
       "      <td>adhesive came loose the first day.  be careful...</td>\n",
       "      <td>1.0</td>\n",
       "    </tr>\n",
       "  </tbody>\n",
       "</table>\n",
       "<p>13591 rows × 2 columns</p>\n",
       "</div>"
      ],
      "text/plain": [
       "                                                  review  overall\n",
       "0      Looks even better in person. Be careful to not...      5.0\n",
       "1      When you don't want to spend a whole lot of ca...      5.0\n",
       "2      so the case came on time, i love the design. I...      3.0\n",
       "3      DON'T CARE FOR IT.  GAVE IT AS A GIFT AND THEY...      2.0\n",
       "4      I liked it because it was cute, but the studs ...      4.0\n",
       "...                                                  ...      ...\n",
       "13586  I didn't want to attach a clip to my iphone di...      4.0\n",
       "13587  Very happy with the product and service.  I wo...      5.0\n",
       "13588         Does not lock oh I do not use it anymore !      2.0\n",
       "13589                            These things are great.      5.0\n",
       "13590  adhesive came loose the first day.  be careful...      1.0\n",
       "\n",
       "[13591 rows x 2 columns]"
      ]
     },
     "execution_count": 3,
     "metadata": {},
     "output_type": "execute_result"
    }
   ],
   "source": [
    "df = pd.DataFrame(reviews)\n",
    "df.columns = ['review','overall']\n",
    "df"
   ]
  },
  {
   "cell_type": "code",
   "execution_count": 4,
   "metadata": {},
   "outputs": [],
   "source": [
    "# creating sentiment column Positive,Negative,Neutral\n",
    "df['sentiment'] = df['overall'].apply(lambda x:'Positive' if x>=4 else ('Negative' if x<=2 else 'Neutral'))"
   ]
  },
  {
   "cell_type": "code",
   "execution_count": 5,
   "metadata": {},
   "outputs": [
    {
     "data": {
      "text/html": [
       "<div>\n",
       "<style scoped>\n",
       "    .dataframe tbody tr th:only-of-type {\n",
       "        vertical-align: middle;\n",
       "    }\n",
       "\n",
       "    .dataframe tbody tr th {\n",
       "        vertical-align: top;\n",
       "    }\n",
       "\n",
       "    .dataframe thead th {\n",
       "        text-align: right;\n",
       "    }\n",
       "</style>\n",
       "<table border=\"1\" class=\"dataframe\">\n",
       "  <thead>\n",
       "    <tr style=\"text-align: right;\">\n",
       "      <th></th>\n",
       "      <th>review</th>\n",
       "      <th>overall</th>\n",
       "      <th>sentiment</th>\n",
       "    </tr>\n",
       "  </thead>\n",
       "  <tbody>\n",
       "    <tr>\n",
       "      <th>0</th>\n",
       "      <td>Looks even better in person. Be careful to not...</td>\n",
       "      <td>5.0</td>\n",
       "      <td>Positive</td>\n",
       "    </tr>\n",
       "    <tr>\n",
       "      <th>1</th>\n",
       "      <td>When you don't want to spend a whole lot of ca...</td>\n",
       "      <td>5.0</td>\n",
       "      <td>Positive</td>\n",
       "    </tr>\n",
       "    <tr>\n",
       "      <th>2</th>\n",
       "      <td>so the case came on time, i love the design. I...</td>\n",
       "      <td>3.0</td>\n",
       "      <td>Neutral</td>\n",
       "    </tr>\n",
       "    <tr>\n",
       "      <th>3</th>\n",
       "      <td>DON'T CARE FOR IT.  GAVE IT AS A GIFT AND THEY...</td>\n",
       "      <td>2.0</td>\n",
       "      <td>Negative</td>\n",
       "    </tr>\n",
       "    <tr>\n",
       "      <th>4</th>\n",
       "      <td>I liked it because it was cute, but the studs ...</td>\n",
       "      <td>4.0</td>\n",
       "      <td>Positive</td>\n",
       "    </tr>\n",
       "    <tr>\n",
       "      <th>...</th>\n",
       "      <td>...</td>\n",
       "      <td>...</td>\n",
       "      <td>...</td>\n",
       "    </tr>\n",
       "    <tr>\n",
       "      <th>13586</th>\n",
       "      <td>I didn't want to attach a clip to my iphone di...</td>\n",
       "      <td>4.0</td>\n",
       "      <td>Positive</td>\n",
       "    </tr>\n",
       "    <tr>\n",
       "      <th>13587</th>\n",
       "      <td>Very happy with the product and service.  I wo...</td>\n",
       "      <td>5.0</td>\n",
       "      <td>Positive</td>\n",
       "    </tr>\n",
       "    <tr>\n",
       "      <th>13588</th>\n",
       "      <td>Does not lock oh I do not use it anymore !</td>\n",
       "      <td>2.0</td>\n",
       "      <td>Negative</td>\n",
       "    </tr>\n",
       "    <tr>\n",
       "      <th>13589</th>\n",
       "      <td>These things are great.</td>\n",
       "      <td>5.0</td>\n",
       "      <td>Positive</td>\n",
       "    </tr>\n",
       "    <tr>\n",
       "      <th>13590</th>\n",
       "      <td>adhesive came loose the first day.  be careful...</td>\n",
       "      <td>1.0</td>\n",
       "      <td>Negative</td>\n",
       "    </tr>\n",
       "  </tbody>\n",
       "</table>\n",
       "<p>13591 rows × 3 columns</p>\n",
       "</div>"
      ],
      "text/plain": [
       "                                                  review  overall sentiment\n",
       "0      Looks even better in person. Be careful to not...      5.0  Positive\n",
       "1      When you don't want to spend a whole lot of ca...      5.0  Positive\n",
       "2      so the case came on time, i love the design. I...      3.0   Neutral\n",
       "3      DON'T CARE FOR IT.  GAVE IT AS A GIFT AND THEY...      2.0  Negative\n",
       "4      I liked it because it was cute, but the studs ...      4.0  Positive\n",
       "...                                                  ...      ...       ...\n",
       "13586  I didn't want to attach a clip to my iphone di...      4.0  Positive\n",
       "13587  Very happy with the product and service.  I wo...      5.0  Positive\n",
       "13588         Does not lock oh I do not use it anymore !      2.0  Negative\n",
       "13589                            These things are great.      5.0  Positive\n",
       "13590  adhesive came loose the first day.  be careful...      1.0  Negative\n",
       "\n",
       "[13591 rows x 3 columns]"
      ]
     },
     "execution_count": 5,
     "metadata": {},
     "output_type": "execute_result"
    }
   ],
   "source": [
    "df"
   ]
  },
  {
   "cell_type": "code",
   "execution_count": 6,
   "metadata": {},
   "outputs": [
    {
     "data": {
      "text/plain": [
       "Positive    9734\n",
       "Negative    2397\n",
       "Neutral     1460\n",
       "Name: sentiment, dtype: int64"
      ]
     },
     "execution_count": 6,
     "metadata": {},
     "output_type": "execute_result"
    }
   ],
   "source": [
    "df['sentiment'].value_counts()"
   ]
  },
  {
   "cell_type": "code",
   "execution_count": 7,
   "metadata": {},
   "outputs": [],
   "source": [
    "# converting onject to category\n",
    "cat_type = CategoricalDtype(categories = ['Negative','Neutral','Positive'])\n",
    "df['sentiment'] = df['sentiment'].astype(cat_type)"
   ]
  },
  {
   "cell_type": "code",
   "execution_count": 8,
   "metadata": {
    "scrolled": true
   },
   "outputs": [
    {
     "data": {
      "text/html": [
       "<div>\n",
       "<style scoped>\n",
       "    .dataframe tbody tr th:only-of-type {\n",
       "        vertical-align: middle;\n",
       "    }\n",
       "\n",
       "    .dataframe tbody tr th {\n",
       "        vertical-align: top;\n",
       "    }\n",
       "\n",
       "    .dataframe thead th {\n",
       "        text-align: right;\n",
       "    }\n",
       "</style>\n",
       "<table border=\"1\" class=\"dataframe\">\n",
       "  <thead>\n",
       "    <tr style=\"text-align: right;\">\n",
       "      <th></th>\n",
       "      <th>review</th>\n",
       "      <th>overall</th>\n",
       "      <th>sentiment</th>\n",
       "    </tr>\n",
       "  </thead>\n",
       "  <tbody>\n",
       "    <tr>\n",
       "      <th>8102</th>\n",
       "      <td>The telephone would not recognize the sim card...</td>\n",
       "      <td>1.0</td>\n",
       "      <td>Negative</td>\n",
       "    </tr>\n",
       "    <tr>\n",
       "      <th>8478</th>\n",
       "      <td>I picked this up to use with my Galaxy Note 3 ...</td>\n",
       "      <td>2.0</td>\n",
       "      <td>Negative</td>\n",
       "    </tr>\n",
       "    <tr>\n",
       "      <th>2006</th>\n",
       "      <td>The Motorola RAZR V3 is worst cell phone I hav...</td>\n",
       "      <td>2.0</td>\n",
       "      <td>Negative</td>\n",
       "    </tr>\n",
       "    <tr>\n",
       "      <th>11361</th>\n",
       "      <td>Came in Spanish programming. Can't read it. Go...</td>\n",
       "      <td>1.0</td>\n",
       "      <td>Negative</td>\n",
       "    </tr>\n",
       "    <tr>\n",
       "      <th>4758</th>\n",
       "      <td>Beautiful case, but the clip is just no good. ...</td>\n",
       "      <td>1.0</td>\n",
       "      <td>Negative</td>\n",
       "    </tr>\n",
       "    <tr>\n",
       "      <th>...</th>\n",
       "      <td>...</td>\n",
       "      <td>...</td>\n",
       "      <td>...</td>\n",
       "    </tr>\n",
       "    <tr>\n",
       "      <th>2602</th>\n",
       "      <td>This phone does every thing I could want from ...</td>\n",
       "      <td>5.0</td>\n",
       "      <td>Positive</td>\n",
       "    </tr>\n",
       "    <tr>\n",
       "      <th>2923</th>\n",
       "      <td>After going through a few headsets that were l...</td>\n",
       "      <td>5.0</td>\n",
       "      <td>Positive</td>\n",
       "    </tr>\n",
       "    <tr>\n",
       "      <th>1561</th>\n",
       "      <td>just to be clear, you need this if you have an...</td>\n",
       "      <td>5.0</td>\n",
       "      <td>Positive</td>\n",
       "    </tr>\n",
       "    <tr>\n",
       "      <th>5181</th>\n",
       "      <td>Awww I collect snowmen, and now I have a snoww...</td>\n",
       "      <td>5.0</td>\n",
       "      <td>Positive</td>\n",
       "    </tr>\n",
       "    <tr>\n",
       "      <th>7165</th>\n",
       "      <td>First of all, if you have the extended battery...</td>\n",
       "      <td>4.0</td>\n",
       "      <td>Positive</td>\n",
       "    </tr>\n",
       "  </tbody>\n",
       "</table>\n",
       "<p>3600 rows × 3 columns</p>\n",
       "</div>"
      ],
      "text/plain": [
       "                                                  review  overall sentiment\n",
       "8102   The telephone would not recognize the sim card...      1.0  Negative\n",
       "8478   I picked this up to use with my Galaxy Note 3 ...      2.0  Negative\n",
       "2006   The Motorola RAZR V3 is worst cell phone I hav...      2.0  Negative\n",
       "11361  Came in Spanish programming. Can't read it. Go...      1.0  Negative\n",
       "4758   Beautiful case, but the clip is just no good. ...      1.0  Negative\n",
       "...                                                  ...      ...       ...\n",
       "2602   This phone does every thing I could want from ...      5.0  Positive\n",
       "2923   After going through a few headsets that were l...      5.0  Positive\n",
       "1561   just to be clear, you need this if you have an...      5.0  Positive\n",
       "5181   Awww I collect snowmen, and now I have a snoww...      5.0  Positive\n",
       "7165   First of all, if you have the extended battery...      4.0  Positive\n",
       "\n",
       "[3600 rows x 3 columns]"
      ]
     },
     "execution_count": 8,
     "metadata": {},
     "output_type": "execute_result"
    }
   ],
   "source": [
    "#  evenly distubruted column for each rating\n",
    "df=df.groupby('sentiment', as_index=False, group_keys=False).apply(lambda x: x.sample(n=1200))\n",
    "df"
   ]
  },
  {
   "cell_type": "code",
   "execution_count": 9,
   "metadata": {},
   "outputs": [],
   "source": [
    "# randomizing sentiment\n",
    "#df.apply(lambda x: x.sample(frac=1).values)\n",
    "#df"
   ]
  },
  {
   "cell_type": "code",
   "execution_count": 10,
   "metadata": {},
   "outputs": [
    {
     "data": {
      "text/plain": [
       "Positive    1200\n",
       "Neutral     1200\n",
       "Negative    1200\n",
       "Name: sentiment, dtype: int64"
      ]
     },
     "execution_count": 10,
     "metadata": {},
     "output_type": "execute_result"
    }
   ],
   "source": [
    "df['sentiment'].value_counts()"
   ]
  },
  {
   "cell_type": "code",
   "execution_count": 11,
   "metadata": {},
   "outputs": [
    {
     "data": {
      "image/png": "[encoded data removed]",
      "text/plain": [
       "<Figure size 432x288 with 1 Axes>"
      ]
     },
     "metadata": {
      "needs_background": "light"
     },
     "output_type": "display_data"
    }
   ],
   "source": [
    "df['sentiment'].value_counts().plot.barh();"
   ]
  },
  {
   "cell_type": "code",
   "execution_count": 12,
   "metadata": {},
   "outputs": [],
   "source": [
    "X = df['review']\n",
    "y = df['sentiment']"
   ]
  },
  {
   "cell_type": "code",
   "execution_count": 13,
   "metadata": {},
   "outputs": [],
   "source": [
    "X = X.apply(lambda x:x.lower())"
   ]
  },
  {
   "cell_type": "code",
   "execution_count": 14,
   "metadata": {},
   "outputs": [],
   "source": [
    "X_train,X_test,y_train,y_test = train_test_split(X,y,random_state=42,test_size=.3)"
   ]
  },
  {
   "cell_type": "code",
   "execution_count": 15,
   "metadata": {},
   "outputs": [
    {
     "data": {
      "text/plain": [
       "4322      fits my husband's old style flip phone perfectly\n",
       "13039    this antenna was shipped in bad packaging and ...\n",
       "6903     ver high quality finish and feel to it.  it wo...\n",
       "6129     arrived with inoperable indoor antenna, compan...\n",
       "10869                                   works as expected.\n",
       "                               ...                        \n",
       "2892     i bought this thinking i was going to get an u...\n",
       "10915    the batteries are not genuine ones. but they a...\n",
       "501                    the adhesive breaks fairly quickly.\n",
       "6826     i work for an on-call computer service. i neve...\n",
       "5790     i have trouble with phone cases but this one i...\n",
       "Name: review, Length: 2520, dtype: object"
      ]
     },
     "execution_count": 15,
     "metadata": {},
     "output_type": "execute_result"
    }
   ],
   "source": [
    "X_train"
   ]
  },
  {
   "cell_type": "code",
   "execution_count": 16,
   "metadata": {},
   "outputs": [
    {
     "data": {
      "text/plain": [
       "4322     Positive\n",
       "13039    Negative\n",
       "6903     Positive\n",
       "6129      Neutral\n",
       "10869    Positive\n",
       "           ...   \n",
       "2892     Negative\n",
       "10915     Neutral\n",
       "501      Negative\n",
       "6826     Positive\n",
       "5790     Positive\n",
       "Name: sentiment, Length: 2520, dtype: category\n",
       "Categories (3, object): [Negative, Neutral, Positive]"
      ]
     },
     "execution_count": 16,
     "metadata": {},
     "output_type": "execute_result"
    }
   ],
   "source": [
    "y_train"
   ]
  },
  {
   "cell_type": "markdown",
   "metadata": {},
   "source": [
    "#### Vectorization with TfidfVectorizer"
   ]
  },
  {
   "cell_type": "code",
   "execution_count": 17,
   "metadata": {
    "scrolled": true
   },
   "outputs": [
    {
     "name": "stdout",
     "output_type": "stream",
     "text": [
      "  (0, 6178)\t0.36588403458588764\n",
      "  (0, 6226)\t0.15442697825775165\n",
      "  (0, 3452)\t0.43485558533633306\n",
      "  (0, 8216)\t0.42457429351983833\n",
      "  (0, 5866)\t0.3273412550823594\n",
      "  (0, 4223)\t0.5050667074490482\n",
      "  (0, 5574)\t0.1372559489696146\n",
      "  (0, 3405)\t0.3030422396719509\n",
      "  (1, 3968)\t0.08969875502093347\n",
      "  (1, 9429)\t0.05231381634115032\n",
      "  (1, 9571)\t0.07507831643869822\n",
      "  (1, 5217)\t0.15086258883812298\n",
      "  (1, 86)\t0.09178545156469427\n",
      "  (1, 9074)\t0.05174004204504865\n",
      "  (1, 6675)\t0.06874517891297514\n",
      "  (1, 2015)\t0.12737678805108968\n",
      "  (1, 4533)\t0.06845760240727482\n",
      "  (1, 8550)\t0.061758600249648785\n",
      "  (1, 9521)\t0.11029908971198084\n",
      "  (1, 6286)\t0.0863316121145369\n",
      "  (1, 7695)\t0.1587719641337325\n",
      "  (1, 5955)\t0.05130076838285184\n",
      "  (1, 8164)\t0.1587719641337325\n",
      "  (1, 7854)\t0.043549986803710514\n",
      "  (1, 5765)\t0.06149045967467846\n",
      "  :\t:\n",
      "  (2519, 3996)\t0.0471221660051265\n",
      "  (2519, 4587)\t0.11592570676944537\n",
      "  (2519, 7804)\t0.08647643173793837\n",
      "  (2519, 9568)\t0.06633203156028904\n",
      "  (2519, 1014)\t0.07609395546234067\n",
      "  (2519, 1541)\t0.0587230331769716\n",
      "  (2519, 9667)\t0.0506984391490793\n",
      "  (2519, 4266)\t0.056052489974245355\n",
      "  (2519, 2679)\t0.0689523513829495\n",
      "  (2519, 1480)\t0.1268075067868172\n",
      "  (2519, 7178)\t0.08714305936987905\n",
      "  (2519, 7854)\t0.05312787684337416\n",
      "  (2519, 5875)\t0.27862626325900747\n",
      "  (2519, 8648)\t0.06673007991369746\n",
      "  (2519, 3509)\t0.03914028801775046\n",
      "  (2519, 5741)\t0.17023248767558152\n",
      "  (2519, 8678)\t0.06855356012331688\n",
      "  (2519, 9533)\t0.13405630861070997\n",
      "  (2519, 8546)\t0.15157461983339449\n",
      "  (2519, 4599)\t0.1603303232514994\n",
      "  (2519, 699)\t0.06660011826378226\n",
      "  (2519, 4338)\t0.1300173455066758\n",
      "  (2519, 8587)\t0.11353538673541798\n",
      "  (2519, 6226)\t0.13855487690410956\n",
      "  (2519, 5574)\t0.04104956557979119\n"
     ]
    }
   ],
   "source": [
    "vectorizer = TfidfVectorizer()\n",
    "X_vectorized_train = vectorizer.fit_transform(X_train)\n",
    "X_vectorized_test = vectorizer.transform(X_test)\n",
    "print(X_vectorized_train)"
   ]
  },
  {
   "cell_type": "markdown",
   "metadata": {},
   "source": [
    "#### Logistic regression"
   ]
  },
  {
   "cell_type": "code",
   "execution_count": 18,
   "metadata": {},
   "outputs": [],
   "source": [
    "loj = LogisticRegression()\n",
    "loj_model=loj.fit(X_vectorized_train,y_train)"
   ]
  },
  {
   "cell_type": "code",
   "execution_count": 19,
   "metadata": {},
   "outputs": [
    {
     "name": "stdout",
     "output_type": "stream",
     "text": [
      "f1_score:  [0.71891892 0.59084605 0.72103004]\n",
      "accuracy_score:  0.6768518518518518\n"
     ]
    }
   ],
   "source": [
    "y_pred_loj = loj_model.predict(X_vectorized_test)\n",
    "print('f1_score: ',f1_score(y_test,loj_model.predict(X_vectorized_test),average=None))\n",
    "print('accuracy_score: ',accuracy_score(y_pred_loj,y_test))"
   ]
  },
  {
   "cell_type": "markdown",
   "metadata": {},
   "source": [
    "#### Neural networks\n"
   ]
  },
  {
   "cell_type": "code",
   "execution_count": 20,
   "metadata": {},
   "outputs": [],
   "source": [
    "#### Some standartizating for neural net\n",
    "scaler = StandardScaler(with_mean=False)\n",
    "scaler_model = scaler.fit(X_vectorized_train)\n",
    "X_scaled_train = scaler.transform(X_vectorized_train)\n",
    "X_scaled_test = scaler.transform(X_vectorized_test)"
   ]
  },
  {
   "cell_type": "code",
   "execution_count": 21,
   "metadata": {},
   "outputs": [],
   "source": [
    "mlpc = MLPClassifier(alpha=0.2,hidden_layer_sizes = (100,50,150))\n",
    "mlpc_model = mlpc.fit(X_scaled_train,y_train)"
   ]
  },
  {
   "cell_type": "code",
   "execution_count": 22,
   "metadata": {},
   "outputs": [
    {
     "name": "stdout",
     "output_type": "stream",
     "text": [
      "f1_score:  [0.61581137 0.53754941 0.58235294]\n",
      "accuracy_score:  0.5777777777777777\n"
     ]
    }
   ],
   "source": [
    "y_pred_mlcp = mlpc_model.predict(X_scaled_test)\n",
    "print('f1_score: ',f1_score(y_test,mlpc_model.predict(X_scaled_test),average=None))\n",
    "print('accuracy_score: ',accuracy_score(y_pred_mlcp,y_test))"
   ]
  },
  {
   "cell_type": "markdown",
   "metadata": {},
   "source": [
    "#### K-nearest neighbor"
   ]
  },
  {
   "cell_type": "code",
   "execution_count": 23,
   "metadata": {},
   "outputs": [],
   "source": [
    "knn = KNeighborsClassifier(n_neighbors = 50)\n",
    "knn_model = knn.fit(X_vectorized_train,y_train)\n"
   ]
  },
  {
   "cell_type": "code",
   "execution_count": 24,
   "metadata": {},
   "outputs": [
    {
     "name": "stdout",
     "output_type": "stream",
     "text": [
      "f1_score:  [0.47619048 0.49311927 0.60571429]\n",
      "accuracy_score:  0.525\n"
     ]
    }
   ],
   "source": [
    "y_pred_knn = knn_model.predict(X_vectorized_test)\n",
    "print('f1_score: ',f1_score(y_test,knn_model.predict(X_vectorized_test),average=None))\n",
    "print('accuracy_score: ',accuracy_score(y_pred_knn,y_test))"
   ]
  },
  {
   "cell_type": "markdown",
   "metadata": {},
   "source": [
    "#### Support vector machine\n"
   ]
  },
  {
   "cell_type": "code",
   "execution_count": 25,
   "metadata": {},
   "outputs": [],
   "source": [
    "svc = SVC()\n",
    "svc_model = svc.fit(X_vectorized_train,y_train)"
   ]
  },
  {
   "cell_type": "code",
   "execution_count": 26,
   "metadata": {},
   "outputs": [
    {
     "name": "stdout",
     "output_type": "stream",
     "text": [
      "f1_score:  [0.73469388 0.61103634 0.72140762]\n",
      "accuracy_score:  0.687962962962963\n"
     ]
    }
   ],
   "source": [
    "y_pred_svc = svc_model.predict(X_vectorized_test)\n",
    "print('f1_score: ',f1_score(y_test,svc_model.predict(X_vectorized_test),average=None))\n",
    "print('accuracy_score: ',accuracy_score(y_pred_svc,y_test))"
   ]
  },
  {
   "cell_type": "markdown",
   "metadata": {},
   "source": [
    "#### Random Forest"
   ]
  },
  {
   "cell_type": "code",
   "execution_count": 27,
   "metadata": {},
   "outputs": [],
   "source": [
    "rf = RandomForestClassifier(n_estimators = 500)\n",
    "rf_model = rf.fit(X_vectorized_train,y_train)"
   ]
  },
  {
   "cell_type": "code",
   "execution_count": 28,
   "metadata": {},
   "outputs": [
    {
     "name": "stdout",
     "output_type": "stream",
     "text": [
      "f1_score:  [0.72751678 0.60217984 0.68135095]\n",
      "accuracy_score:  0.6703703703703704\n"
     ]
    }
   ],
   "source": [
    "y_pred_rf = rf_model.predict(X_vectorized_test)\n",
    "print('f1_score: ',f1_score(y_test,rf_model.predict(X_vectorized_test),average=None))\n",
    "print('accuracy_score: ',accuracy_score(y_pred_rf,y_test))"
   ]
  },
  {
   "cell_type": "markdown",
   "metadata": {},
   "source": [
    "#### XGBoost"
   ]
  },
  {
   "cell_type": "code",
   "execution_count": 29,
   "metadata": {},
   "outputs": [],
   "source": [
    "# !pip install xgboost\n",
    "xgbt = XGBClassifier()\n",
    "xgbt_model = xgbt.fit(X_vectorized_train,y_train)"
   ]
  },
  {
   "cell_type": "code",
   "execution_count": 30,
   "metadata": {},
   "outputs": [
    {
     "name": "stdout",
     "output_type": "stream",
     "text": [
      "f1_score:  [0.70588235 0.5907173  0.67902996]\n",
      "accuracy_score:  0.6592592592592592\n"
     ]
    }
   ],
   "source": [
    "y_pred_xgbt = xgbt_model.predict(X_vectorized_test)\n",
    "print('f1_score: ',f1_score(y_test,xgbt_model.predict(X_vectorized_test),average=None))\n",
    "print('accuracy_score: ',accuracy_score(y_pred_xgbt,y_test))"
   ]
  },
  {
   "cell_type": "markdown",
   "metadata": {},
   "source": [
    "#### LightGBM"
   ]
  },
  {
   "cell_type": "code",
   "execution_count": 31,
   "metadata": {},
   "outputs": [],
   "source": [
    "#pip install lightgbm\n",
    "lgbm = LGBMClassifier()\n",
    "lgb_model = lgbm.fit(X_vectorized_train,y_train)"
   ]
  },
  {
   "cell_type": "code",
   "execution_count": 32,
   "metadata": {},
   "outputs": [
    {
     "name": "stdout",
     "output_type": "stream",
     "text": [
      "f1_score:  [0.69354839 0.57545839 0.70155587]\n",
      "accuracy_score:  0.6574074074074074\n"
     ]
    }
   ],
   "source": [
    "y_pred_lgbm = lgb_model.predict(X_vectorized_test)\n",
    "print('f1_score: ',f1_score(y_test,lgb_model.predict(X_vectorized_test),average=None))\n",
    "print('accuracy_score: ',accuracy_score(y_pred_lgbm,y_test))"
   ]
  },
  {
   "cell_type": "markdown",
   "metadata": {},
   "source": [
    "#### Compairing models"
   ]
  },
  {
   "cell_type": "code",
   "execution_count": 33,
   "metadata": {},
   "outputs": [
    {
     "name": "stdout",
     "output_type": "stream",
     "text": [
      "accuracy_score:Logistic regression - 0.6768518518518518\n",
      "accuracy_score:Neural networks - 0.5777777777777777\n",
      "accuracy_score:K-nearest neighbors - 0.525\n",
      "accuracy_score:Support vector machines - 0.687962962962963\n",
      "accuracy_score:XGBoost - 0.6592592592592592\n",
      "accuracy_score:LightGBM - 0.6574074074074074\n"
     ]
    }
   ],
   "source": [
    "print('accuracy_score:Logistic regression -',accuracy_score(y_pred_loj,y_test))\n",
    "print('accuracy_score:Neural networks -',accuracy_score(y_pred_mlcp,y_test))\n",
    "print('accuracy_score:K-nearest neighbors -',accuracy_score(y_pred_knn,y_test))\n",
    "print('accuracy_score:Support vector machines -',accuracy_score(y_pred_svc,y_test))\n",
    "print('accuracy_score:XGBoost -',accuracy_score(y_pred_xgbt,y_test))\n",
    "print('accuracy_score:LightGBM -',accuracy_score(y_pred_lgbm,y_test))"
   ]
  },
  {
   "cell_type": "markdown",
   "metadata": {},
   "source": [
    "#### Tuning best models with GridSearchCV"
   ]
  },
  {
   "cell_type": "markdown",
   "metadata": {},
   "source": [
    "#### SVM tuning"
   ]
  },
  {
   "cell_type": "code",
   "execution_count": 34,
   "metadata": {},
   "outputs": [
    {
     "name": "stdout",
     "output_type": "stream",
     "text": [
      "Fitting 5 folds for each of 4 candidates, totalling 20 fits\n"
     ]
    },
    {
     "name": "stderr",
     "output_type": "stream",
     "text": [
      "[Parallel(n_jobs=-1)]: Using backend LokyBackend with 4 concurrent workers.\n",
      "[Parallel(n_jobs=-1)]: Done  20 out of  20 | elapsed:   42.0s finished\n"
     ]
    },
    {
     "data": {
      "text/plain": [
       "GridSearchCV(cv=5, estimator=SVC(), n_jobs=-1,\n",
       "             param_grid={'C': [1, 5], 'gamma': [1, 5]}, verbose=2)"
      ]
     },
     "execution_count": 34,
     "metadata": {},
     "output_type": "execute_result"
    }
   ],
   "source": [
    "svc_params = {'C':[1,5],'gamma':[1,5]}\n",
    "svc = SVC()\n",
    "svc_cv_model = GridSearchCV(svc,svc_params,cv=5,n_jobs=-1,verbose=2)\n",
    "svc_cv_model.fit(X_vectorized_train,y_train)"
   ]
  },
  {
   "cell_type": "code",
   "execution_count": 35,
   "metadata": {},
   "outputs": [
    {
     "data": {
      "text/plain": [
       "{'C': 5, 'gamma': 1}"
      ]
     },
     "execution_count": 35,
     "metadata": {},
     "output_type": "execute_result"
    }
   ],
   "source": [
    "svc_cv_model.best_params_"
   ]
  },
  {
   "cell_type": "code",
   "execution_count": 36,
   "metadata": {},
   "outputs": [],
   "source": [
    "svc = SVC(C = 1,gamma = 1)\n",
    "svc_model = svc.fit(X_vectorized_train,y_train)"
   ]
  },
  {
   "cell_type": "code",
   "execution_count": 37,
   "metadata": {},
   "outputs": [
    {
     "name": "stdout",
     "output_type": "stream",
     "text": [
      "f1_score:  [0.73469388 0.61290323 0.72246696]\n",
      "accuracy_score:K-fold SVM  0.6888888888888889\n"
     ]
    }
   ],
   "source": [
    "y_pred_svc = svc_model.predict(X_vectorized_test)\n",
    "print('f1_score: ',f1_score(y_test,svc_model.predict(X_vectorized_test),average=None))\n",
    "print('accuracy_score:K-fold SVM ',accuracy_score(y_pred_svc,y_test))"
   ]
  },
  {
   "cell_type": "markdown",
   "metadata": {},
   "source": [
    "#### LightGBM tuning"
   ]
  },
  {
   "cell_type": "code",
   "execution_count": 38,
   "metadata": {},
   "outputs": [],
   "source": [
    "lgbm = LGBMClassifier()\n",
    "lgbm_params = {'n_estimators':[100,500],\n",
    "              'learning_rate':[0.1,0.01],\n",
    "              'min_child_samples':[10,20]}"
   ]
  },
  {
   "cell_type": "code",
   "execution_count": null,
   "metadata": {},
   "outputs": [
    {
     "name": "stdout",
     "output_type": "stream",
     "text": [
      "Fitting 5 folds for each of 8 candidates, totalling 40 fits\n"
     ]
    },
    {
     "name": "stderr",
     "output_type": "stream",
     "text": [
      "[Parallel(n_jobs=-1)]: Using backend LokyBackend with 4 concurrent workers.\n",
      "[Parallel(n_jobs=-1)]: Done  33 tasks      | elapsed:  5.0min\n",
      "[Parallel(n_jobs=-1)]: Done  40 out of  40 | elapsed:  7.1min finished\n"
     ]
    }
   ],
   "source": [
    "lgbm_cv_model = GridSearchCV(lgbm,lgbm_params,cv=5,n_jobs=-1,verbose=2)\n",
    "lgbm_cv_model.fit(X_vectorized_train,y_train)"
   ]
  },
  {
   "cell_type": "code",
   "execution_count": null,
   "metadata": {},
   "outputs": [],
   "source": [
    "lgbm_cv_model.best_params_"
   ]
  },
  {
   "cell_type": "code",
   "execution_count": null,
   "metadata": {},
   "outputs": [],
   "source": [
    "lgbm = LGBMClassifier(learning_rate = 0.1,min_child_samples = 10,n_estimators = 100)\n",
    "lgb_model = lgbm.fit(X_vectorized_train,y_train)"
   ]
  },
  {
   "cell_type": "code",
   "execution_count": null,
   "metadata": {},
   "outputs": [],
   "source": [
    "y_pred_lgbm = lgb_model.predict(X_vectorized_test)\n",
    "print('f1_score: ',f1_score(y_test,lgb_model.predict(X_vectorized_test),average=None))\n",
    "print('accuracy_score: ',accuracy_score(y_pred_lgbm,y_test))"
   ]
  },
  {
   "cell_type": "markdown",
   "metadata": {},
   "source": [
    "#### Saving best model"
   ]
  },
  {
   "cell_type": "code",
   "execution_count": null,
   "metadata": {},
   "outputs": [],
   "source": [
    "with open('review_classifier.pkl', 'wb') as f:\n",
    "    pickle.dump(svc_cv_model, f)"
   ]
  },
  {
   "cell_type": "markdown",
   "metadata": {},
   "source": [
    "#### Loading model"
   ]
  },
  {
   "cell_type": "code",
   "execution_count": null,
   "metadata": {},
   "outputs": [],
   "source": [
    "with open('review_classifier.pkl','rb') as f:\n",
    "    loaded_model = pickle.load(f)"
   ]
  },
  {
   "cell_type": "code",
   "execution_count": null,
   "metadata": {},
   "outputs": [],
   "source": [
    "test = ['''We got these cords due to the reviews.\n",
    "We have used Anker in the past, and their cords used the be great.\n",
    "But, that has changed lately.\n",
    "Their customer service has been helpful, but lately, the customer service has gone downhill quickly as well.\n",
    "I got these at the end of last year, and now, one isn't working at all.\n",
    "I am not even going to bother with customer service because the last time I tried,\n",
    "they basically accused me of breaking my cords on purpose.\n",
    "(WHY would I do that?!) It isn't worth the hassle. Look elsewhere''','''The cord and plugs appear to be heavy duty and much sturdier than standard cables.\n",
    "The plug casing over the actual electronic connection that plugs into the iphone is too big to fit through the access port in my waterproof Cellever case.\n",
    "It fits in the case (not waterproof) my wife uses so I don't know if it is just Cellever case I use or if it is all waterproof cases.\n",
    "Cord really looks great and I like it, it is just a little oversized and won't fit my case, which is the reason for the overall rating of a 4''']\n",
    "\n",
    "testv = vectorizer.transform(test)"
   ]
  },
  {
   "cell_type": "code",
   "execution_count": null,
   "metadata": {},
   "outputs": [],
   "source": [
    "loaded_model.predict(testv)"
   ]
  },
  {
   "cell_type": "code",
   "execution_count": null,
   "metadata": {},
   "outputs": [],
   "source": [
    "y_pred = loaded_model.predict(X_vectorized_test)\n",
    "labels = np.unique(df['sentiment'])\n",
    "\n",
    "\n",
    "cm = confusion_matrix(y_test,y_pred,labels=labels)\n",
    "cmd = ConfusionMatrixDisplay(cm, display_labels=labels)\n",
    "cmd.plot();"
   ]
  }
 ],
 "metadata": {
  "kernelspec": {
   "display_name": "Python 3",
   "language": "python",
   "name": "python3"
  },
  "language_info": {
   "codemirror_mode": {
    "name": "ipython",
    "version": 3
   },
   "file_extension": ".py",
   "mimetype": "text/x-python",
   "name": "python",
   "nbconvert_exporter": "python",
   "pygments_lexer": "ipython3",
   "version": "3.8.5"
  }
 },
 "nbformat": 4,
 "nbformat_minor": 4
}
