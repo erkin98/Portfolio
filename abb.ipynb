{
 "cells": [
  {
   "cell_type": "code",
   "execution_count": 12,
   "id": "a00dbc79",
   "metadata": {},
   "outputs": [],
   "source": [
    "from typing import List\n",
    "def carParkingRoof(cars: List[int], k: int) -> int:\n",
    "    cars = sorted(cars)\n",
    "    res = float('inf')\n",
    "    for car in range(len(cars) - k + 1):\n",
    "        res = min(res,cars[car+k-1] - cars[car])\n",
    "    return res + 1"
   ]
  },
  {
   "cell_type": "code",
   "execution_count": 14,
   "id": "dc763ec8",
   "metadata": {},
   "outputs": [],
   "source": [
    "assert carParkingRoof([6,2,12,7],3) == 6\n",
    "assert carParkingRoof([2, 10, 8, 17], 3) == 9\n"
   ]
  },
  {
   "cell_type": "code",
   "execution_count": 7,
   "id": "cbb4bcf2",
   "metadata": {},
   "outputs": [],
   "source": [
    "def solution(matrix):    \n",
    "    if not matrix:\n",
    "        return 0\n",
    "    count = 0\n",
    "    for i in range(len(matrix) ):\n",
    "        for j in range(len(matrix[i])):\n",
    "            color = matrix[i][j]\n",
    "            if color > 0:\n",
    "                count += 1\n",
    "                DFS(matrix, i, j, color)\n",
    "    return count\n",
    "def DFS(matrix, i, j, color):\n",
    "    if(i >= 0 and j>=0 and i < len(matrix) and j < len(matrix[i]) and matrix[i][j] > 0 and  matrix[i][j] == color):\n",
    "        matrix[i][j] = -1;\n",
    "        DFS(matrix, i+1, j, color);\n",
    "        DFS(matrix, i-1, j, color);\n",
    "        DFS(matrix, i, j + 1, color);\n",
    "        DFS(matrix, i, j - 1, color);"
   ]
  },
  {
   "cell_type": "code",
   "execution_count": 16,
   "id": "84f1d9c0",
   "metadata": {},
   "outputs": [],
   "source": [
    "assert solution([ [5, 4, 4],[4, 3, 4], [3, 2, 4], [2, 2, 2], [3, 3, 4], [1, 4, 4], [4, 1, 1]]) == 11\n",
    "assert solution([[1, 2, 3],[4, 5, 6], [7, 8, 9], [10, 11, 12], [13, 14, 15], [16, 17, 18], [19, 20, 21]]) == 21"
   ]
  }
 ],
 "metadata": {
  "kernelspec": {
   "display_name": "Python 3 (ipykernel)",
   "language": "python",
   "name": "python3"
  },
  "language_info": {
   "codemirror_mode": {
    "name": "ipython",
    "version": 3
   },
   "file_extension": ".py",
   "mimetype": "text/x-python",
   "name": "python",
   "nbconvert_exporter": "python",
   "pygments_lexer": "ipython3",
   "version": "3.8.10"
  }
 },
 "nbformat": 4,
 "nbformat_minor": 5
}
